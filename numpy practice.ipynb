{
 "cells": [
  {
   "cell_type": "code",
   "execution_count": 1,
   "id": "61af16f1",
   "metadata": {},
   "outputs": [],
   "source": [
    "import numpy as np \n",
    "import pandas as pd"
   ]
  },
  {
   "cell_type": "code",
   "execution_count": 2,
   "id": "45661d74",
   "metadata": {
    "scrolled": false
   },
   "outputs": [
    {
     "name": "stdout",
     "output_type": "stream",
     "text": [
      "[[ 6  7  8]\n",
      " [ 9 10 11]\n",
      " [12 14 13]]\n"
     ]
    }
   ],
   "source": [
    "data= np.array([[1,2,3],\n",
    "                [4,5,6],\n",
    "                [7,9,8]])\n",
    "print((data+5))"
   ]
  },
  {
   "cell_type": "markdown",
   "id": "f833ad29",
   "metadata": {},
   "source": [
    "# start numpy basic"
   ]
  },
  {
   "cell_type": "code",
   "execution_count": 3,
   "id": "628a41ef",
   "metadata": {
    "scrolled": true
   },
   "outputs": [],
   "source": [
    "#a = np.arange(2,21,2)\n"
   ]
  },
  {
   "cell_type": "code",
   "execution_count": 4,
   "id": "a8e69260",
   "metadata": {},
   "outputs": [],
   "source": [
    "a = np.array([[1,2,3],\n",
    "             [4,5,6],\n",
    "             [7,8,9]])"
   ]
  },
  {
   "cell_type": "code",
   "execution_count": 5,
   "id": "b3d76be8",
   "metadata": {
    "scrolled": true
   },
   "outputs": [
    {
     "name": "stdout",
     "output_type": "stream",
     "text": [
      "shape (3, 3)\n",
      "dimnsion 2\n",
      "siz 9\n"
     ]
    }
   ],
   "source": [
    "print(\"shape\",a.shape)\n",
    "print('dimnsion' ,a.ndim)\n",
    "print(\"siz\",a.size)"
   ]
  },
  {
   "cell_type": "code",
   "execution_count": 6,
   "id": "474bad13",
   "metadata": {},
   "outputs": [
    {
     "data": {
      "text/plain": [
       "6"
      ]
     },
     "execution_count": 6,
     "metadata": {},
     "output_type": "execute_result"
    }
   ],
   "source": [
    "#slicing\n",
    "a = np.array([[1,2,3],\n",
    "             [4,5,6],\n",
    "             [7,8,9]])\n",
    "a[1,2]\n"
   ]
  },
  {
   "cell_type": "code",
   "execution_count": 7,
   "id": "b0abde35",
   "metadata": {},
   "outputs": [
    {
     "data": {
      "text/plain": [
       "array([[ 0,  1,  2,  3,  4,  5,  6,  7,  8,  9],\n",
       "       [10, 11, 12, 13, 14, 15, 16, 17, 18, 19],\n",
       "       [20, 21, 22, 23, 24, 25, 26, 27, 28, 29],\n",
       "       [30, 31, 32, 33, 34, 35, 36, 37, 38, 39],\n",
       "       [40, 41, 42, 43, 44, 45, 46, 47, 48, 49],\n",
       "       [50, 51, 52, 53, 54, 55, 56, 57, 58, 59],\n",
       "       [60, 61, 62, 63, 64, 65, 66, 67, 68, 69],\n",
       "       [70, 71, 72, 73, 74, 75, 76, 77, 78, 79],\n",
       "       [80, 81, 82, 83, 84, 85, 86, 87, 88, 89],\n",
       "       [90, 91, 92, 93, 94, 95, 96, 97, 98, 99]])"
      ]
     },
     "execution_count": 7,
     "metadata": {},
     "output_type": "execute_result"
    }
   ],
   "source": [
    "data = np.arange(10*10).reshape(10,10)\n",
    "data"
   ]
  },
  {
   "cell_type": "code",
   "execution_count": 8,
   "id": "8988f9cf",
   "metadata": {},
   "outputs": [],
   "source": [
    "data= np.array([[1,2,3],\n",
    "                [4,5,6],\n",
    "                [7,9,8]])"
   ]
  },
  {
   "cell_type": "code",
   "execution_count": 9,
   "id": "2b61f8e8",
   "metadata": {},
   "outputs": [
    {
     "data": {
      "text/plain": [
       "array([[1, 0, 1],\n",
       "       [0, 1, 0],\n",
       "       [1, 1, 0]], dtype=int32)"
      ]
     },
     "execution_count": 9,
     "metadata": {},
     "output_type": "execute_result"
    }
   ],
   "source": [
    "data % 2"
   ]
  },
  {
   "cell_type": "code",
   "execution_count": 10,
   "id": "5169a51e",
   "metadata": {},
   "outputs": [
    {
     "data": {
      "text/plain": [
       "array([1, 2, 3, 4, 5, 6, 7, 8, 9])"
      ]
     },
     "execution_count": 10,
     "metadata": {},
     "output_type": "execute_result"
    }
   ],
   "source": [
    "data=np.arange(1,10)\n",
    "data"
   ]
  },
  {
   "cell_type": "code",
   "execution_count": 11,
   "id": "3ce4f10c",
   "metadata": {},
   "outputs": [
    {
     "data": {
      "text/plain": [
       "array([1, 3, 5, 7, 9])"
      ]
     },
     "execution_count": 11,
     "metadata": {},
     "output_type": "execute_result"
    }
   ],
   "source": [
    "data=np.arange(1,10,2)\n",
    "data\n"
   ]
  },
  {
   "cell_type": "code",
   "execution_count": 12,
   "id": "4ca432e6",
   "metadata": {},
   "outputs": [],
   "source": [
    "data=np.arange(1,10,2)"
   ]
  },
  {
   "cell_type": "code",
   "execution_count": 13,
   "id": "bced8a41",
   "metadata": {},
   "outputs": [
    {
     "data": {
      "text/plain": [
       "array([[ 0,  1,  2,  3,  4,  5,  6,  7,  8,  9],\n",
       "       [10, 11, 12, 13, 14, 15, 16, 17, 18, 19],\n",
       "       [20, 21, 22, 23, 24, 25, 26, 27, 28, 29],\n",
       "       [30, 31, 32, 33, 34, 35, 36, 37, 38, 39],\n",
       "       [40, 41, 42, 43, 44, 45, 46, 47, 48, 49],\n",
       "       [50, 51, 52, 53, 54, 55, 56, 57, 58, 59],\n",
       "       [60, 61, 62, 63, 64, 65, 66, 67, 68, 69],\n",
       "       [70, 71, 72, 73, 74, 75, 76, 77, 78, 79],\n",
       "       [80, 81, 82, 83, 84, 85, 86, 87, 88, 89],\n",
       "       [90, 91, 92, 93, 94, 95, 96, 97, 98, 99]])"
      ]
     },
     "execution_count": 13,
     "metadata": {},
     "output_type": "execute_result"
    }
   ],
   "source": [
    "data = np.arange(10*10).reshape(10,10)# .reshape(num_row, num_col)\n",
    "data"
   ]
  },
  {
   "cell_type": "code",
   "execution_count": 14,
   "id": "125b718b",
   "metadata": {},
   "outputs": [
    {
     "data": {
      "text/plain": [
       "array([[ 0,  1,  2,  3,  4,  5,  6,  7,  8,  9],\n",
       "       [10, 11, 12, 13, 14, 15, 16, 17, 18, 19],\n",
       "       [20, 21, 22, 23, 24, 25, 26, 27, 28, 29],\n",
       "       [30, 31, 32, 33, 34, 35, 36, 37, 38, 39],\n",
       "       [40, 41, 42, 43, 44, 45, 46, 47, 48, 49],\n",
       "       [50, 51, 52, 53, 54, 55, 56, 57, 58, 59],\n",
       "       [60, 61, 62, 63, 64, 65, 66, 67, 68, 69],\n",
       "       [70, 71, 72, 73, 74, 75, 76, 77, 78, 79],\n",
       "       [80, 81, 82, 83, 84, 85, 86, 87, 88, 89],\n",
       "       [90, 91, 92, 93, 94, 95, 96, 97, 98, 99]])"
      ]
     },
     "execution_count": 14,
     "metadata": {},
     "output_type": "execute_result"
    }
   ],
   "source": [
    "data[5: ,5: ] = data[5: ,5: ]\n",
    "data"
   ]
  },
  {
   "cell_type": "code",
   "execution_count": 15,
   "id": "20f3e626",
   "metadata": {},
   "outputs": [
    {
     "data": {
      "text/plain": [
       "39"
      ]
     },
     "execution_count": 15,
     "metadata": {},
     "output_type": "execute_result"
    }
   ],
   "source": [
    "data[3,9]"
   ]
  },
  {
   "cell_type": "code",
   "execution_count": 16,
   "id": "b2fbfe54",
   "metadata": {},
   "outputs": [
    {
     "data": {
      "text/plain": [
       "array([[  0,   1,   2,   3,   4,   5,   6,   7,   8,   9,  10,  11],\n",
       "       [ 12,  13,  14,  15,  16,  17,  18,  19,  20,  21,  22,  23],\n",
       "       [ 24,  25,  26,  27,  28,  29,  30,  31,  32,  33,  34,  35],\n",
       "       [ 36,  37,  38,  39,  40,  41,  42,  43,  44,  45,  46,  47],\n",
       "       [ 48,  49,  50,  51,  52,  53,  54,  55,  56,  57,  58,  59],\n",
       "       [ 60,  61,  62,  63,  64,  65,  66,  67,  68,  69,  70,  71],\n",
       "       [ 72,  73,  74,  75,  76,  77,  78,  79,  80,  81,  82,  83],\n",
       "       [ 84,  85,  86,  87,  88,  89,  90,  91,  92,  93,  94,  95],\n",
       "       [ 96,  97,  98,  99, 100, 101, 102, 103, 104, 105, 106, 107],\n",
       "       [108, 109, 110, 111, 112, 113, 114, 115, 116, 117, 118, 119],\n",
       "       [120, 121, 122, 123, 124, 125, 126, 127, 128, 129, 130, 131],\n",
       "       [132, 133, 134, 135, 136, 137, 138, 139, 140, 141, 142, 143]])"
      ]
     },
     "execution_count": 16,
     "metadata": {},
     "output_type": "execute_result"
    }
   ],
   "source": [
    "data = np.arange(12*12).reshape(12,12)# .reshape(num_row, num_col)\n",
    "#     rows ,  cols\n",
    "data"
   ]
  },
  {
   "cell_type": "code",
   "execution_count": 17,
   "id": "2356593e",
   "metadata": {},
   "outputs": [
    {
     "data": {
      "text/plain": [
       "array([[ 26,  27,  28,  29,  30,  31,  32,  33],\n",
       "       [ 38,  39,  40,  41,  42,  43,  44,  45],\n",
       "       [ 50,  51,  52,  53,  54,  55,  56,  57],\n",
       "       [ 62,  63,  64,  65,  66,  67,  68,  69],\n",
       "       [ 74,  75,  76,  77,  78,  79,  80,  81],\n",
       "       [ 86,  87,  88,  89,  90,  91,  92,  93],\n",
       "       [ 98,  99, 100, 101, 102, 103, 104, 105],\n",
       "       [110, 111, 112, 113, 114, 115, 116, 117]])"
      ]
     },
     "execution_count": 17,
     "metadata": {},
     "output_type": "execute_result"
    }
   ],
   "source": [
    "data[2:-2,2:-2]"
   ]
  },
  {
   "cell_type": "code",
   "execution_count": 18,
   "id": "88236375",
   "metadata": {},
   "outputs": [
    {
     "data": {
      "text/plain": [
       "array([0., 0., 0., 0., 0., 0., 0., 0., 0., 0., 0., 0., 0., 0., 0., 0., 0.,\n",
       "       0., 0., 0., 0., 0., 0., 0., 0., 0., 0., 0., 0., 0., 0., 0., 0., 0.,\n",
       "       0., 0., 0., 0., 0., 0., 0., 0., 0., 0., 0., 0., 0., 0., 0., 0., 0.,\n",
       "       0., 0., 0., 0., 0., 0., 0., 0., 0., 0., 0., 0., 0., 0., 0., 0., 0.,\n",
       "       0., 0., 0., 0., 0., 0., 0., 0., 0., 0., 0., 0., 0., 0., 0., 0., 0.,\n",
       "       0., 0., 0., 0., 0., 0., 0., 0., 0., 0., 0., 0., 0., 0., 0.])"
      ]
     },
     "execution_count": 18,
     "metadata": {},
     "output_type": "execute_result"
    }
   ],
   "source": [
    "np.zeros(100)"
   ]
  },
  {
   "cell_type": "code",
   "execution_count": 19,
   "id": "89bfc181",
   "metadata": {},
   "outputs": [
    {
     "data": {
      "text/plain": [
       "array([1, 1, 1, 1, 1, 1, 1, 1, 1, 1, 1, 1, 1, 1, 1, 1, 1, 1, 1, 1])"
      ]
     },
     "execution_count": 19,
     "metadata": {},
     "output_type": "execute_result"
    }
   ],
   "source": [
    "np.ones(20, dtype=np.int32)"
   ]
  },
  {
   "cell_type": "code",
   "execution_count": 20,
   "id": "3dc1698d",
   "metadata": {},
   "outputs": [
    {
     "name": "stderr",
     "output_type": "stream",
     "text": [
      "C:\\Users\\samma\\AppData\\Local\\Temp\\ipykernel_12080\\538504265.py:1: DeprecationWarning: `np.int` is a deprecated alias for the builtin `int`. To silence this warning, use `int` by itself. Doing this will not modify any behavior and is safe. When replacing `np.int`, you may wish to use e.g. `np.int64` or `np.int32` to specify the precision. If you wish to review your current use, check the release note link for additional information.\n",
      "Deprecated in NumPy 1.20; for more details and guidance: https://numpy.org/devdocs/release/1.20.0-notes.html#deprecations\n",
      "  np.ones(6, dtype=np.int)\n"
     ]
    },
    {
     "data": {
      "text/plain": [
       "array([1, 1, 1, 1, 1, 1])"
      ]
     },
     "execution_count": 20,
     "metadata": {},
     "output_type": "execute_result"
    }
   ],
   "source": [
    "np.ones(6, dtype=np.int)\n"
   ]
  },
  {
   "cell_type": "code",
   "execution_count": 21,
   "id": "a451ae97",
   "metadata": {},
   "outputs": [
    {
     "data": {
      "text/plain": [
       "(12, 12)"
      ]
     },
     "execution_count": 21,
     "metadata": {},
     "output_type": "execute_result"
    }
   ],
   "source": [
    "data.shape"
   ]
  },
  {
   "cell_type": "code",
   "execution_count": 22,
   "id": "af106562",
   "metadata": {},
   "outputs": [
    {
     "name": "stderr",
     "output_type": "stream",
     "text": [
      "C:\\Users\\samma\\AppData\\Local\\Temp\\ipykernel_12080\\3627138763.py:1: DeprecationWarning: `np.int` is a deprecated alias for the builtin `int`. To silence this warning, use `int` by itself. Doing this will not modify any behavior and is safe. When replacing `np.int`, you may wish to use e.g. `np.int64` or `np.int32` to specify the precision. If you wish to review your current use, check the release note link for additional information.\n",
      "Deprecated in NumPy 1.20; for more details and guidance: https://numpy.org/devdocs/release/1.20.0-notes.html#deprecations\n",
      "  np.ones(data.shape, dtype=np.int)\n"
     ]
    },
    {
     "data": {
      "text/plain": [
       "array([[1, 1, 1, 1, 1, 1, 1, 1, 1, 1, 1, 1],\n",
       "       [1, 1, 1, 1, 1, 1, 1, 1, 1, 1, 1, 1],\n",
       "       [1, 1, 1, 1, 1, 1, 1, 1, 1, 1, 1, 1],\n",
       "       [1, 1, 1, 1, 1, 1, 1, 1, 1, 1, 1, 1],\n",
       "       [1, 1, 1, 1, 1, 1, 1, 1, 1, 1, 1, 1],\n",
       "       [1, 1, 1, 1, 1, 1, 1, 1, 1, 1, 1, 1],\n",
       "       [1, 1, 1, 1, 1, 1, 1, 1, 1, 1, 1, 1],\n",
       "       [1, 1, 1, 1, 1, 1, 1, 1, 1, 1, 1, 1],\n",
       "       [1, 1, 1, 1, 1, 1, 1, 1, 1, 1, 1, 1],\n",
       "       [1, 1, 1, 1, 1, 1, 1, 1, 1, 1, 1, 1],\n",
       "       [1, 1, 1, 1, 1, 1, 1, 1, 1, 1, 1, 1],\n",
       "       [1, 1, 1, 1, 1, 1, 1, 1, 1, 1, 1, 1]])"
      ]
     },
     "execution_count": 22,
     "metadata": {},
     "output_type": "execute_result"
    }
   ],
   "source": [
    "np.ones(data.shape, dtype=np.int)\n"
   ]
  },
  {
   "cell_type": "code",
   "execution_count": 23,
   "id": "7914dd75",
   "metadata": {},
   "outputs": [
    {
     "data": {
      "text/plain": [
       "array([[0, 0, 0, 0, 0, 0, 0, 0, 0, 0, 0, 0],\n",
       "       [0, 0, 0, 0, 0, 0, 0, 0, 0, 0, 0, 0],\n",
       "       [0, 0, 0, 0, 0, 0, 0, 0, 0, 0, 0, 0],\n",
       "       [0, 0, 0, 0, 0, 0, 0, 0, 0, 0, 0, 0],\n",
       "       [0, 0, 0, 0, 0, 0, 0, 0, 0, 0, 0, 0],\n",
       "       [0, 0, 0, 0, 0, 0, 0, 0, 0, 0, 0, 0],\n",
       "       [0, 0, 0, 0, 0, 0, 0, 0, 0, 0, 0, 0],\n",
       "       [0, 0, 0, 0, 0, 0, 0, 0, 0, 0, 0, 0],\n",
       "       [0, 0, 0, 0, 0, 0, 0, 0, 0, 0, 0, 0],\n",
       "       [0, 0, 0, 0, 0, 0, 0, 0, 0, 0, 0, 0],\n",
       "       [0, 0, 0, 0, 0, 0, 0, 0, 0, 0, 0, 0],\n",
       "       [0, 0, 0, 0, 0, 0, 0, 0, 0, 0, 0, 0]])"
      ]
     },
     "execution_count": 23,
     "metadata": {},
     "output_type": "execute_result"
    }
   ],
   "source": [
    "np.zeros_like(data)"
   ]
  },
  {
   "cell_type": "code",
   "execution_count": 24,
   "id": "44976d2e",
   "metadata": {},
   "outputs": [
    {
     "data": {
      "text/plain": [
       "array([[1, 1, 1, 1, 1, 1, 1, 1, 1, 1, 1, 1],\n",
       "       [1, 1, 1, 1, 1, 1, 1, 1, 1, 1, 1, 1],\n",
       "       [1, 1, 1, 1, 1, 1, 1, 1, 1, 1, 1, 1],\n",
       "       [1, 1, 1, 1, 1, 1, 1, 1, 1, 1, 1, 1],\n",
       "       [1, 1, 1, 1, 1, 1, 1, 1, 1, 1, 1, 1],\n",
       "       [1, 1, 1, 1, 1, 1, 1, 1, 1, 1, 1, 1],\n",
       "       [1, 1, 1, 1, 1, 1, 1, 1, 1, 1, 1, 1],\n",
       "       [1, 1, 1, 1, 1, 1, 1, 1, 1, 1, 1, 1],\n",
       "       [1, 1, 1, 1, 1, 1, 1, 1, 1, 1, 1, 1],\n",
       "       [1, 1, 1, 1, 1, 1, 1, 1, 1, 1, 1, 1],\n",
       "       [1, 1, 1, 1, 1, 1, 1, 1, 1, 1, 1, 1],\n",
       "       [1, 1, 1, 1, 1, 1, 1, 1, 1, 1, 1, 1]])"
      ]
     },
     "execution_count": 24,
     "metadata": {},
     "output_type": "execute_result"
    }
   ],
   "source": [
    "np.ones_like(data)"
   ]
  },
  {
   "cell_type": "code",
   "execution_count": 25,
   "id": "567922fc",
   "metadata": {},
   "outputs": [
    {
     "data": {
      "text/plain": [
       "array([1.12756280e-311, 3.16202013e-322, 0.00000000e+000, 0.00000000e+000,\n",
       "       1.03977794e-312, 2.90315669e-057, 4.28173385e-037, 1.40416055e+165,\n",
       "       2.67825814e+184, 4.01346174e-057, 1.11619197e-046, 9.39444468e+165])"
      ]
     },
     "execution_count": 25,
     "metadata": {},
     "output_type": "execute_result"
    }
   ],
   "source": [
    "np.empty(12)"
   ]
  },
  {
   "cell_type": "code",
   "execution_count": 26,
   "id": "71de2dfb",
   "metadata": {},
   "outputs": [],
   "source": [
    "import matplotlib.pyplot as plt\n",
    "import seaborn as sns"
   ]
  },
  {
   "cell_type": "code",
   "execution_count": 27,
   "id": "238701ba",
   "metadata": {},
   "outputs": [
    {
     "data": {
      "text/plain": [
       "array([63, 64, 65, 66, 67, 68, 69, 70, 71, 72, 73, 74, 75, 76, 77, 78, 79,\n",
       "       80, 81, 82, 83, 84, 85, 86, 87, 88, 89, 90, 91, 92])"
      ]
     },
     "execution_count": 27,
     "metadata": {},
     "output_type": "execute_result"
    }
   ],
   "source": [
    "data = np.arange(63,93)\n",
    "data"
   ]
  },
  {
   "cell_type": "code",
   "execution_count": 28,
   "id": "407d0c38",
   "metadata": {},
   "outputs": [
    {
     "data": {
      "text/plain": [
       "array(['?', '@', 'A', 'B', 'C', 'D', 'E', 'F', 'G', 'H', 'I', 'J', 'K',\n",
       "       'L', 'M', 'N', 'O'], dtype='<U1')"
      ]
     },
     "execution_count": 28,
     "metadata": {},
     "output_type": "execute_result"
    }
   ],
   "source": [
    "data = np.array([chr(i) for i in range(63,80)], dtype=str)\n",
    "data"
   ]
  },
  {
   "cell_type": "code",
   "execution_count": 29,
   "id": "1d55f1d5",
   "metadata": {},
   "outputs": [],
   "source": [
    "bank_data =np.array([\"samad\",\"faisal\",\"afnan\",\"hamza\",\"saad\"])"
   ]
  },
  {
   "cell_type": "code",
   "execution_count": 30,
   "id": "936ba850",
   "metadata": {},
   "outputs": [],
   "source": [
    "stat_bank_data=np.array([\"ali\",'Faisal',\"saad\",\"tahir\",\"nayab\"])"
   ]
  },
  {
   "cell_type": "code",
   "execution_count": 31,
   "id": "3b29347a",
   "metadata": {},
   "outputs": [
    {
     "data": {
      "text/plain": [
       "array([False, False, False, False,  True])"
      ]
     },
     "execution_count": 31,
     "metadata": {},
     "output_type": "execute_result"
    }
   ],
   "source": [
    "np.in1d(bank_data,stat_bank_data)"
   ]
  },
  {
   "cell_type": "code",
   "execution_count": 32,
   "id": "3972bfd9",
   "metadata": {},
   "outputs": [
    {
     "data": {
      "text/plain": [
       "array(['saad'], dtype='<U6')"
      ]
     },
     "execution_count": 32,
     "metadata": {},
     "output_type": "execute_result"
    }
   ],
   "source": [
    "np.intersect1d(bank_data,stat_bank_data)"
   ]
  },
  {
   "cell_type": "code",
   "execution_count": 33,
   "id": "0acce9e6",
   "metadata": {},
   "outputs": [
    {
     "data": {
      "text/plain": [
       "array(['Faisal', 'afnan', 'ali', 'faisal', 'hamza', 'nayab', 'saad',\n",
       "       'samad', 'tahir'], dtype='<U6')"
      ]
     },
     "execution_count": 33,
     "metadata": {},
     "output_type": "execute_result"
    }
   ],
   "source": [
    "np.union1d(bank_data,stat_bank_data)"
   ]
  },
  {
   "cell_type": "code",
   "execution_count": 34,
   "id": "a7ac8ec0",
   "metadata": {},
   "outputs": [
    {
     "data": {
      "text/plain": [
       "array(['?', '@', 'a', 'b', 'c', 'd', 'e', 'f', 'g', 'h', 'i', 'j', 'k',\n",
       "       'l', 'm', 'n', 'o'], dtype='<U1')"
      ]
     },
     "execution_count": 34,
     "metadata": {},
     "output_type": "execute_result"
    }
   ],
   "source": [
    "data=np.array(list(map(str.lower,data)))\n",
    "data"
   ]
  },
  {
   "cell_type": "code",
   "execution_count": 35,
   "id": "49ce1e6e",
   "metadata": {},
   "outputs": [
    {
     "data": {
      "text/plain": [
       "array(['SAMAD', 'FAISAL', 'AFNAN', 'HAMZA', 'SAAD'], dtype='<U6')"
      ]
     },
     "execution_count": 35,
     "metadata": {},
     "output_type": "execute_result"
    }
   ],
   "source": [
    "bank_data=np.array(list(map(str.upper,bank_data)))\n",
    "bank_data"
   ]
  },
  {
   "cell_type": "code",
   "execution_count": 36,
   "id": "e0f05ba5",
   "metadata": {},
   "outputs": [
    {
     "data": {
      "text/plain": [
       "array([], dtype='<U6')"
      ]
     },
     "execution_count": 36,
     "metadata": {},
     "output_type": "execute_result"
    }
   ],
   "source": [
    "np.intersect1d(bank_data,stat_bank_data)"
   ]
  },
  {
   "cell_type": "markdown",
   "id": "b2275d03",
   "metadata": {},
   "source": [
    "# handle issue like space, lower and uper case with function\n"
   ]
  },
  {
   "cell_type": "code",
   "execution_count": 37,
   "id": "a12e8115",
   "metadata": {},
   "outputs": [],
   "source": [
    "bank_data =np.array([\"   samad\",\"faisal\",\"  afnan\",\"hamza\",\"saad  \"])"
   ]
  },
  {
   "cell_type": "code",
   "execution_count": 38,
   "id": "aa8ef0ba",
   "metadata": {},
   "outputs": [
    {
     "data": {
      "text/plain": [
       "array([], dtype='<U8')"
      ]
     },
     "execution_count": 38,
     "metadata": {},
     "output_type": "execute_result"
    }
   ],
   "source": [
    "np.intersect1d(bank_data,stat_bank_data)"
   ]
  },
  {
   "cell_type": "code",
   "execution_count": 47,
   "id": "4545e185",
   "metadata": {},
   "outputs": [],
   "source": [
    "def preprocessing (txt):\n",
    "    txt=str(txt)\n",
    "    txt=txt.lower()\n",
    "    txt=txt.strip()\n",
    "    return txt\n",
    " \n",
    " "
   ]
  },
  {
   "cell_type": "code",
   "execution_count": 42,
   "id": "bbf626f0",
   "metadata": {},
   "outputs": [
    {
     "data": {
      "text/plain": [
       "'pakistan zindabad'"
      ]
     },
     "execution_count": 42,
     "metadata": {},
     "output_type": "execute_result"
    }
   ],
   "source": [
    "preprocessing('pakistan zindabad  ') "
   ]
  },
  {
   "cell_type": "code",
   "execution_count": 48,
   "id": "afb5ae2f",
   "metadata": {},
   "outputs": [],
   "source": [
    "bank_data=np.array(list(map( preprocessing,bank_data)))"
   ]
  },
  {
   "cell_type": "code",
   "execution_count": 54,
   "id": "3516088f",
   "metadata": {},
   "outputs": [
    {
     "data": {
      "text/plain": [
       "array(['SAMAD', 'FAISAL', 'AFNAN', 'HAMZA', 'SAAD'], dtype='<U6')"
      ]
     },
     "execution_count": 54,
     "metadata": {},
     "output_type": "execute_result"
    }
   ],
   "source": [
    "bank_data"
   ]
  },
  {
   "cell_type": "code",
   "execution_count": 50,
   "id": "4e820d2c",
   "metadata": {},
   "outputs": [],
   "source": [
    "def preprocessing2 (txt):\n",
    "    txt=str(txt)\n",
    "    txt=txt.upper()\n",
    "    txt=txt.strip()\n",
    "    return txt\n",
    " "
   ]
  },
  {
   "cell_type": "code",
   "execution_count": 51,
   "id": "fad3f311",
   "metadata": {},
   "outputs": [],
   "source": [
    "bank_data=np.array(list(map( preprocessing2,bank_data)))"
   ]
  },
  {
   "cell_type": "code",
   "execution_count": 52,
   "id": "6f8fe1e1",
   "metadata": {},
   "outputs": [
    {
     "data": {
      "text/plain": [
       "array(['SAMAD', 'FAISAL', 'AFNAN', 'HAMZA', 'SAAD'], dtype='<U6')"
      ]
     },
     "execution_count": 52,
     "metadata": {},
     "output_type": "execute_result"
    }
   ],
   "source": [
    "bank_data"
   ]
  },
  {
   "cell_type": "markdown",
   "id": "1315d306",
   "metadata": {},
   "source": [
    "# Slicing and Indexing"
   ]
  },
  {
   "cell_type": "code",
   "execution_count": 57,
   "id": "dffc7c24",
   "metadata": {},
   "outputs": [
    {
     "data": {
      "text/plain": [
       "array([ 1,  2,  3,  4,  5,  6,  7,  8,  9, 10, 11, 12, 13, 14, 15, 16, 17,\n",
       "       18, 19, 20, 21, 22, 23, 24, 25, 26, 27, 28, 29, 30, 31, 32, 33, 34,\n",
       "       35, 36, 37, 38, 39, 40, 41, 42, 43, 44, 45, 46, 47, 48, 49, 50, 51,\n",
       "       52, 53, 54, 55, 56, 57, 58, 59, 60, 61, 62, 63, 64, 65, 66, 67, 68,\n",
       "       69, 70, 71, 72, 73, 74, 75, 76, 77, 78, 79, 80, 81, 82, 83, 84, 85,\n",
       "       86, 87, 88, 89, 90, 91, 92, 93, 94, 95, 96, 97, 98, 99])"
      ]
     },
     "execution_count": 57,
     "metadata": {},
     "output_type": "execute_result"
    }
   ],
   "source": [
    "data5=np.arange(1,100)\n",
    "data5"
   ]
  },
  {
   "cell_type": "code",
   "execution_count": 62,
   "id": "6496ad09",
   "metadata": {},
   "outputs": [
    {
     "name": "stdout",
     "output_type": "stream",
     "text": [
      "[]\n"
     ]
    }
   ],
   "source": [
    "print(data5[1:5])"
   ]
  },
  {
   "cell_type": "code",
   "execution_count": null,
   "id": "36a02ab8",
   "metadata": {},
   "outputs": [],
   "source": []
  }
 ],
 "metadata": {
  "kernelspec": {
   "display_name": "Python 3 (ipykernel)",
   "language": "python",
   "name": "python3"
  },
  "language_info": {
   "codemirror_mode": {
    "name": "ipython",
    "version": 3
   },
   "file_extension": ".py",
   "mimetype": "text/x-python",
   "name": "python",
   "nbconvert_exporter": "python",
   "pygments_lexer": "ipython3",
   "version": "3.10.6"
  }
 },
 "nbformat": 4,
 "nbformat_minor": 5
}
